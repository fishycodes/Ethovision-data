{
 "cells": [
  {
   "cell_type": "markdown",
   "metadata": {},
   "source": [
    "# Move, tag and concatenate Ethovision export files"
   ]
  },
  {
   "cell_type": "code",
   "execution_count": 3,
   "metadata": {},
   "outputs": [
    {
     "name": "stdout",
     "output_type": "stream",
     "text": [
      "Collecting easygui\n",
      "  Downloading https://files.pythonhosted.org/packages/89/b5/fd22bb3eb36085aeb7781670bbc59cf8b641b1774f77578ec06368865aa3/easygui-0.98.1-py2.py3-none-any.whl (90kB)\n",
      "Installing collected packages: easygui\n",
      "Successfully installed easygui-0.98.1\n"
     ]
    },
    {
     "name": "stderr",
     "output_type": "stream",
     "text": [
      "distributed 1.21.8 requires msgpack, which is not installed.\n",
      "You are using pip version 10.0.1, however version 18.0 is available.\n",
      "You should consider upgrading via the 'python -m pip install --upgrade pip' command.\n"
     ]
    }
   ],
   "source": [
    "import sys\n",
    "!{sys.executable} -m pip install easygui"
   ]
  },
  {
   "cell_type": "code",
   "execution_count": 1,
   "metadata": {},
   "outputs": [],
   "source": [
    "import numpy as np\n",
    "import pandas as pd\n",
    "import csv\n",
    "import os, shutil\n",
    "import glob\n",
    "import easygui"
   ]
  },
  {
   "cell_type": "markdown",
   "metadata": {},
   "source": [
    "# Move files from temp_bin to data folder"
   ]
  },
  {
   "cell_type": "code",
   "execution_count": 2,
   "metadata": {},
   "outputs": [
    {
     "name": "stdout",
     "output_type": "stream",
     "text": [
      "Loaded 3 trials\n"
     ]
    },
    {
     "data": {
      "text/plain": [
       "True"
      ]
     },
     "execution_count": 2,
     "metadata": {},
     "output_type": "execute_result"
    }
   ],
   "source": [
    "listofsubs=[]\n",
    "i = 101\n",
    "for root, dirs, files in os.walk('Desktop/temp_bin/', topdown=False): #write directory for where files are\n",
    "    for name in files:\n",
    "        if (os.path.join(root, name)).endswith('1-Subject 1.txt'):\n",
    "            ef = (os.path.join(root, name))\n",
    "            listofsubs.append(ef)\n",
    "            os.rename(os.path.join(ef), os.path.join('Desktop/comfort_zone_paradigm/data/', 'Trial_'+str(i)+'.txt')) # write directory for where files will go\n",
    "            i = i+1        \n",
    "\n",
    "print('Loaded ' +str(len(listofsubs))+ ' trials')\n",
    "easygui.ynbox('Loaded ' +str(len(listofsubs))+ ' trials. Would you like to continue?')"
   ]
  },
  {
   "cell_type": "markdown",
   "metadata": {},
   "source": [
    "# Tag and concatenate txt files"
   ]
  },
  {
   "cell_type": "code",
   "execution_count": 3,
   "metadata": {},
   "outputs": [
    {
     "data": {
      "text/plain": [
       "'OK'"
      ]
     },
     "execution_count": 3,
     "metadata": {},
     "output_type": "execute_result"
    }
   ],
   "source": [
    "header = ['Trial_time','Recording_time','X_center','Y_center','Area','Areachange','Elongation','Distance_moved','Heading_to_point','Mobility_continuous','In_zone(Blue/Center-point)','In_zone(White/Center-point)','In_zone(Blue_1/Center-point)','In_zone(Social/Center-point)','In_zone(Blue_2/Center-point)','In_zone(Upper/Center-point)','In_zone(Lower/Center-point)','In_zone(Transition_zone/Center-point)','Result_1']\n",
    "path = 'Desktop/comfort_zone_paradigm/data'  #place where new files are\n",
    "allFiles = glob.glob(path + \"/*.txt\")\n",
    "frame = pd.DataFrame()\n",
    "lot=[]\n",
    "i=1\n",
    "list_ = []\n",
    "for file_ in allFiles:\n",
    "    df = pd.read_csv(file_, names=header,index_col=False, encoding ='utf-16',  skiprows=33)\n",
    "    for dfs in df:\n",
    "        #df=df[df.columnwhichmaycontain:- != '-']\n",
    "        base = os.path.basename(file_)\n",
    "        base1 = os.path.splitext(base)[0]\n",
    "        df['Trial'] =  base1\n",
    "    df.to_csv('Desktop/Comfort_zone_paradigm/data/New_Trial_'+str(i)+'.txt')\n",
    "    i=i+1\n",
    "    list_.append(df)\n",
    "df1 = pd.concat(list_)\n",
    "df1.to_csv('Desktop/Comfort_zone_paradigm/data/concat.csv') #place where concatneated file will go\n",
    "lot.reverse()\n",
    "easygui.msgbox(\"You just saved 1 hour\")"
   ]
  }
 ],
 "metadata": {
  "kernelspec": {
   "display_name": "Python 3",
   "language": "python",
   "name": "python3"
  },
  "language_info": {
   "codemirror_mode": {
    "name": "ipython",
    "version": 3
   },
   "file_extension": ".py",
   "mimetype": "text/x-python",
   "name": "python",
   "nbconvert_exporter": "python",
   "pygments_lexer": "ipython3",
   "version": "3.6.5"
  }
 },
 "nbformat": 4,
 "nbformat_minor": 2
}
